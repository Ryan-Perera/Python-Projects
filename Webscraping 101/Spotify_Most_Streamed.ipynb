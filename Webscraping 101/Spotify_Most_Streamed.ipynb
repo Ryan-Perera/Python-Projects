{
 "cells": [
  {
   "cell_type": "code",
   "execution_count": 1,
   "metadata": {},
   "outputs": [],
   "source": [
    "from bs4 import BeautifulSoup\n",
    "import pandas as pd\n",
    "import requests\n",
    "url = 'https://en.wikipedia.org/wiki/List_of_Spotify_streaming_records'\n",
    "page = requests.get(url)\n",
    "soup = BeautifulSoup(page.text,'html')"
   ]
  },
  {
   "cell_type": "code",
   "execution_count": 72,
   "metadata": {},
   "outputs": [
    {
     "data": {
      "text/plain": [
       "['Rank', 'Song', 'Artist(s)', 'Streams(billions)', 'Release date']"
      ]
     },
     "execution_count": 72,
     "metadata": {},
     "output_type": "execute_result"
    }
   ],
   "source": [
    "table = soup.find_all('table')[0] # Most-streamed songs\n",
    "headers = table.find_all('tr')[0]\n",
    "headers_list = [header.text.strip() for header in headers][1:-1:2]\n",
    "headers_list"
   ]
  },
  {
   "cell_type": "code",
   "execution_count": 108,
   "metadata": {},
   "outputs": [],
   "source": [
    "df = pd.DataFrame(columns=headers_list)\n",
    "for rows in table.find_all('tr')[1:-1]:\n",
    "    row_data = [line.text.strip() for line in rows][1:-1:2]\n",
    "    df.loc[len(df.index)] = row_data"
   ]
  }
 ],
 "metadata": {
  "kernelspec": {
   "display_name": "Python 3",
   "language": "python",
   "name": "python3"
  },
  "language_info": {
   "codemirror_mode": {
    "name": "ipython",
    "version": 3
   },
   "file_extension": ".py",
   "mimetype": "text/x-python",
   "name": "python",
   "nbconvert_exporter": "python",
   "pygments_lexer": "ipython3",
   "version": "3.11.6"
  }
 },
 "nbformat": 4,
 "nbformat_minor": 2
}
